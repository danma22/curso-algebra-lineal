{
 "cells": [
  {
   "cell_type": "markdown",
   "metadata": {},
   "source": [
    "## Ejercicio 2\n",
    "\n",
    "Comprobar que estos 3 puntos cumplen sus respectivas ecuaciones e intentar encontrar un nuevo punto que cumpla cada una de las ecuaciones del sistema presentado\n",
    "\n",
    "* point1 $= (9,0,0)$\n",
    "* point2 $= (^1/_2,0,0)$\n",
    "* point3 $= (-2,1,0)$\n",
    "\n",
    "$$\\left \\{ \\begin{matrix}\n",
    "x & + & y & + & 2z & = & 9\\\\\n",
    "2x & + & 4y & - & 3z & = & 1\\\\\n",
    "3x & + & 6y & - & 5z & = & 0\n",
    "\\end{matrix} \\right .$$\n",
    "\n",
    "* **point1** $= \\big(9,0,0 \\big)$ cumple la primera ecuación ya que\n",
    "\n",
    "$$9 + 0 + 0 = 9 \\implies 9=9$$\n",
    "\n",
    "* **point2** $= \\big(\\frac{1}{2},0,0 \\big)$ cumple la segunda ecuación ya que\n",
    "\n",
    "$$2 \\cdot \\frac{1}{2} + 0 + 0 = 1 \\implies 1=1$$\n",
    "\n",
    "* **point3** $= \\big(-2,1,0 \\big)$ cumple la tercera ecuación ya que\n",
    "\n",
    "$$3 \\cdot -2 + 6 + 0 = 0 \\implies -6 + 6 = 0 \\implies 0 = 0$$\n",
    "\n",
    "Otros puntos posibles son \n",
    "\n",
    "* point1 $= (0,9,0)$\n",
    "* point2 $= (0,^1/_4,0)$\n",
    "* point3 $= (0,5,6)$\n",
    "\n",
    "ya que\n",
    "\n",
    "* **point1** $= \\big(0,9,0 \\big)$ cumple la primera ecuación ya que\n",
    "\n",
    "$$0 + 9 + 0 = 9 \\implies 9=9$$\n",
    "\n",
    "* **point2** $= \\big(0,\\frac{1}{4},0 \\big)$ cumple la segunda ecuación ya que\n",
    "\n",
    "$$0 + 4 \\cdot \\frac{1}{4} + 0 = 1 \\implies 1=1$$\n",
    "\n",
    "* **point3** $= \\big(0,5,6 \\big)$ cumple la tercera ecuación ya que\n",
    "\n",
    "$$0 + 6 \\cdot 5 - 5 \\cdot 6 = 0 \\implies 30 - 30 = 0 \\implies 0 = 0$$"
   ]
  },
  {
   "cell_type": "code",
   "execution_count": null,
   "metadata": {},
   "outputs": [],
   "source": []
  }
 ],
 "metadata": {
  "kernelspec": {
   "display_name": "Python 3",
   "language": "python",
   "name": "python3"
  },
  "language_info": {
   "codemirror_mode": {
    "name": "ipython",
    "version": 3
   },
   "file_extension": ".py",
   "mimetype": "text/x-python",
   "name": "python",
   "nbconvert_exporter": "python",
   "pygments_lexer": "ipython3",
   "version": "3.7.7"
  }
 },
 "nbformat": 4,
 "nbformat_minor": 4
}
